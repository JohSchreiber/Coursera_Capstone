{
 "cells": [
  {
   "cell_type": "markdown",
   "metadata": {},
   "source": [
    "# Coursera Capstone Project Report"
   ]
  },
  {
   "cell_type": "markdown",
   "metadata": {},
   "source": [
    "## Introduction"
   ]
  },
  {
   "cell_type": "markdown",
   "metadata": {},
   "source": [
    "In this capstone project I will use data science and machine learning technics to discover interesting cities for data science jobs in Switzerland. This project will identify clusters (regions) of interest for data science job seekers based on available jobs on the Indeed job market and characteristics of the cities (venues on Foursquare). That project shall help data science job seekers to look at the most suitable location for their new job."
   ]
  },
  {
   "cell_type": "markdown",
   "metadata": {},
   "source": [
    "## Data"
   ]
  },
  {
   "cell_type": "markdown",
   "metadata": {},
   "source": [
    "First, I will use data from the Indeed Job Search API to identify clusters/regions of interest for data science jobs. For the identification, k-mean clustering will be conducted with the help of the Scikit-learn package. Those clusters will be visualized with the Folium package.\n",
    "\n",
    "Then, I characterize those regions with the help of the Foursquare API regarding the most frequent venues. The characterization is coducted with the help of the statistical methods of the Pandas package."
   ]
  },
  {
   "cell_type": "code",
   "execution_count": null,
   "metadata": {},
   "outputs": [],
   "source": []
  }
 ],
 "metadata": {
  "kernelspec": {
   "display_name": "Python 3",
   "language": "python",
   "name": "python3"
  },
  "language_info": {
   "codemirror_mode": {
    "name": "ipython",
    "version": 3
   },
   "file_extension": ".py",
   "mimetype": "text/x-python",
   "name": "python",
   "nbconvert_exporter": "python",
   "pygments_lexer": "ipython3",
   "version": "3.7.1"
  }
 },
 "nbformat": 4,
 "nbformat_minor": 2
}
